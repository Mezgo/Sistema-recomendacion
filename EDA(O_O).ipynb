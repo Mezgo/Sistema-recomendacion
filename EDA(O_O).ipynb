{
 "cells": [
  {
   "cell_type": "code",
   "execution_count": 1,
   "id": "85106608",
   "metadata": {},
   "outputs": [],
   "source": [
    "import pandas as pd\n",
    "import numpy as np\n",
    "import os\n",
    "import glob\n",
    "from datetime import datetime"
   ]
  },
  {
   "cell_type": "code",
   "execution_count": 2,
   "id": "ff21fc67",
   "metadata": {},
   "outputs": [],
   "source": [
    "def getFileNames(path:str):\n",
    "    files = []\n",
    "    for file in os.scandir(path):\n",
    "        if file.is_file():\n",
    "            if file.name.endswith('.csv'):\n",
    "                files.append(file.name)\n",
    "                files.sort()\n",
    "    return files\n",
    "\n",
    "def joinDFFF(path:str, files:list):\n",
    "    df = pd.read_csv(path+files[0])\n",
    "    print(df.shape)\n",
    "    files.pop(0)\n",
    "\n",
    "    for e in files:\n",
    "        print(f'Using file: {e}')\n",
    "        df2 = pd.read_csv(path+e)\n",
    "        df = pd.concat([df,df2], ignore_index=True)\n",
    "        print(df.shape)\n",
    "    print(df.shape)\n",
    "    return df\n",
    "\n",
    "def joinDF(l:list):\n",
    "    df = l[0]\n",
    "    print(df.shape)\n",
    "    l.pop(0)\n",
    "    for e in l:\n",
    "        df = pd.concat([df,e], ignore_index=True)\n",
    "        print(df.shape)\n",
    "    print(df.shape)\n",
    "    return df\n",
    "\n",
    "def getPrefix(l:str):\n",
    "    return l[0]\n",
    "\n",
    "def idGenerator(df, prefix:str):\n",
    "   print('idGenerator')\n",
    "   for e in range(len(df)):\n",
    "       df['id'] = prefix+df.iloc[:, 0]\n",
    "   return df\n",
    "        \n",
    "def getDF(path:str, name:str):\n",
    "    df = pd.read_csv(path+name)\n",
    "    prefix = getPrefix(name)\n",
    "    print(prefix)\n",
    "    a = idGenerator(df, prefix)\n",
    "    return a"
   ]
  },
  {
   "cell_type": "code",
   "execution_count": 3,
   "id": "2b40ec14",
   "metadata": {},
   "outputs": [
    {
     "data": {
      "text/plain": [
       "['1.csv', '2.csv', '3.csv', '4.csv', '5.csv', '6.csv', '7.csv', '8.csv']"
      ]
     },
     "execution_count": 3,
     "metadata": {},
     "output_type": "execute_result"
    }
   ],
   "source": [
    "# se obtienen los nombres de los archivos presentes el directorio 'ratings/'\n",
    "path = r'ratings/'\n",
    "files = getFileNames(path)\n",
    "files"
   ]
  },
  {
   "cell_type": "code",
   "execution_count": 4,
   "id": "0dfa07f3",
   "metadata": {},
   "outputs": [
    {
     "name": "stdout",
     "output_type": "stream",
     "text": [
      "(1500000, 4)\n",
      "Using file: 2.csv\n",
      "(3000000, 4)\n",
      "Using file: 3.csv\n",
      "(4500000, 4)\n",
      "Using file: 4.csv\n",
      "(6000000, 4)\n",
      "Using file: 5.csv\n",
      "(7500000, 4)\n",
      "Using file: 6.csv\n",
      "(9000000, 4)\n",
      "Using file: 7.csv\n",
      "(9524289, 4)\n",
      "Using file: 8.csv\n",
      "(11024289, 4)\n",
      "(11024289, 4)\n",
      "          userId  rating   timestamp movieId\n",
      "11024284  124380     4.5  1196786159  ns5272\n",
      "11024285  124380     2.5  1196786030  ns5492\n",
      "11024286  124380     3.5  1196785679   hs305\n",
      "11024287  124380     4.5  1196787089  ns7881\n",
      "11024288  124380     1.5  1196785847   as883\n"
     ]
    }
   ],
   "source": [
    "# se unen los datos en un solo df\n",
    "df = joinDFFF(path, files)\n",
    "print(df.tail())"
   ]
  },
  {
   "cell_type": "code",
   "execution_count": 5,
   "id": "cbb3d586",
   "metadata": {},
   "outputs": [
    {
     "data": {
      "text/html": [
       "<div>\n",
       "<style scoped>\n",
       "    .dataframe tbody tr th:only-of-type {\n",
       "        vertical-align: middle;\n",
       "    }\n",
       "\n",
       "    .dataframe tbody tr th {\n",
       "        vertical-align: top;\n",
       "    }\n",
       "\n",
       "    .dataframe thead th {\n",
       "        text-align: right;\n",
       "    }\n",
       "</style>\n",
       "<table border=\"1\" class=\"dataframe\">\n",
       "  <thead>\n",
       "    <tr style=\"text-align: right;\">\n",
       "      <th></th>\n",
       "      <th>userId</th>\n",
       "      <th>rating</th>\n",
       "      <th>timestamp</th>\n",
       "      <th>movieId</th>\n",
       "    </tr>\n",
       "  </thead>\n",
       "  <tbody>\n",
       "    <tr>\n",
       "      <th>0</th>\n",
       "      <td>1</td>\n",
       "      <td>1.0</td>\n",
       "      <td>1425941529</td>\n",
       "      <td>as680</td>\n",
       "    </tr>\n",
       "    <tr>\n",
       "      <th>1</th>\n",
       "      <td>1</td>\n",
       "      <td>4.5</td>\n",
       "      <td>1425942435</td>\n",
       "      <td>ns2186</td>\n",
       "    </tr>\n",
       "    <tr>\n",
       "      <th>2</th>\n",
       "      <td>1</td>\n",
       "      <td>5.0</td>\n",
       "      <td>1425941523</td>\n",
       "      <td>hs2381</td>\n",
       "    </tr>\n",
       "    <tr>\n",
       "      <th>3</th>\n",
       "      <td>1</td>\n",
       "      <td>5.0</td>\n",
       "      <td>1425941546</td>\n",
       "      <td>ns3663</td>\n",
       "    </tr>\n",
       "    <tr>\n",
       "      <th>4</th>\n",
       "      <td>1</td>\n",
       "      <td>5.0</td>\n",
       "      <td>1425941556</td>\n",
       "      <td>as9500</td>\n",
       "    </tr>\n",
       "    <tr>\n",
       "      <th>...</th>\n",
       "      <td>...</td>\n",
       "      <td>...</td>\n",
       "      <td>...</td>\n",
       "      <td>...</td>\n",
       "    </tr>\n",
       "    <tr>\n",
       "      <th>11024284</th>\n",
       "      <td>124380</td>\n",
       "      <td>4.5</td>\n",
       "      <td>1196786159</td>\n",
       "      <td>ns5272</td>\n",
       "    </tr>\n",
       "    <tr>\n",
       "      <th>11024285</th>\n",
       "      <td>124380</td>\n",
       "      <td>2.5</td>\n",
       "      <td>1196786030</td>\n",
       "      <td>ns5492</td>\n",
       "    </tr>\n",
       "    <tr>\n",
       "      <th>11024286</th>\n",
       "      <td>124380</td>\n",
       "      <td>3.5</td>\n",
       "      <td>1196785679</td>\n",
       "      <td>hs305</td>\n",
       "    </tr>\n",
       "    <tr>\n",
       "      <th>11024287</th>\n",
       "      <td>124380</td>\n",
       "      <td>4.5</td>\n",
       "      <td>1196787089</td>\n",
       "      <td>ns7881</td>\n",
       "    </tr>\n",
       "    <tr>\n",
       "      <th>11024288</th>\n",
       "      <td>124380</td>\n",
       "      <td>1.5</td>\n",
       "      <td>1196785847</td>\n",
       "      <td>as883</td>\n",
       "    </tr>\n",
       "  </tbody>\n",
       "</table>\n",
       "<p>11024289 rows × 4 columns</p>\n",
       "</div>"
      ],
      "text/plain": [
       "          userId  rating   timestamp movieId\n",
       "0              1     1.0  1425941529   as680\n",
       "1              1     4.5  1425942435  ns2186\n",
       "2              1     5.0  1425941523  hs2381\n",
       "3              1     5.0  1425941546  ns3663\n",
       "4              1     5.0  1425941556  as9500\n",
       "...          ...     ...         ...     ...\n",
       "11024284  124380     4.5  1196786159  ns5272\n",
       "11024285  124380     2.5  1196786030  ns5492\n",
       "11024286  124380     3.5  1196785679   hs305\n",
       "11024287  124380     4.5  1196787089  ns7881\n",
       "11024288  124380     1.5  1196785847   as883\n",
       "\n",
       "[11024289 rows x 4 columns]"
      ]
     },
     "execution_count": 5,
     "metadata": {},
     "output_type": "execute_result"
    }
   ],
   "source": [
    "df"
   ]
  },
  {
   "cell_type": "code",
   "execution_count": 6,
   "id": "12965033",
   "metadata": {},
   "outputs": [
    {
     "name": "stdout",
     "output_type": "stream",
     "text": [
      "<class 'pandas.core.frame.DataFrame'>\n",
      "RangeIndex: 11024289 entries, 0 to 11024288\n",
      "Data columns (total 4 columns):\n",
      " #   Column     Dtype  \n",
      "---  ------     -----  \n",
      " 0   userId     int64  \n",
      " 1   rating     float64\n",
      " 2   timestamp  int64  \n",
      " 3   movieId    object \n",
      "dtypes: float64(1), int64(2), object(1)\n",
      "memory usage: 336.4+ MB\n"
     ]
    }
   ],
   "source": [
    "df.info()"
   ]
  },
  {
   "cell_type": "code",
   "execution_count": 7,
   "id": "5667f3f8",
   "metadata": {},
   "outputs": [
    {
     "data": {
      "text/html": [
       "<div>\n",
       "<style scoped>\n",
       "    .dataframe tbody tr th:only-of-type {\n",
       "        vertical-align: middle;\n",
       "    }\n",
       "\n",
       "    .dataframe tbody tr th {\n",
       "        vertical-align: top;\n",
       "    }\n",
       "\n",
       "    .dataframe thead th {\n",
       "        text-align: right;\n",
       "    }\n",
       "</style>\n",
       "<table border=\"1\" class=\"dataframe\">\n",
       "  <thead>\n",
       "    <tr style=\"text-align: right;\">\n",
       "      <th></th>\n",
       "      <th>userId</th>\n",
       "      <th>score</th>\n",
       "      <th>timestamp</th>\n",
       "      <th>movieId</th>\n",
       "    </tr>\n",
       "  </thead>\n",
       "  <tbody>\n",
       "    <tr>\n",
       "      <th>0</th>\n",
       "      <td>1</td>\n",
       "      <td>1.0</td>\n",
       "      <td>1425941529</td>\n",
       "      <td>as680</td>\n",
       "    </tr>\n",
       "    <tr>\n",
       "      <th>1</th>\n",
       "      <td>1</td>\n",
       "      <td>4.5</td>\n",
       "      <td>1425942435</td>\n",
       "      <td>ns2186</td>\n",
       "    </tr>\n",
       "    <tr>\n",
       "      <th>2</th>\n",
       "      <td>1</td>\n",
       "      <td>5.0</td>\n",
       "      <td>1425941523</td>\n",
       "      <td>hs2381</td>\n",
       "    </tr>\n",
       "    <tr>\n",
       "      <th>3</th>\n",
       "      <td>1</td>\n",
       "      <td>5.0</td>\n",
       "      <td>1425941546</td>\n",
       "      <td>ns3663</td>\n",
       "    </tr>\n",
       "    <tr>\n",
       "      <th>4</th>\n",
       "      <td>1</td>\n",
       "      <td>5.0</td>\n",
       "      <td>1425941556</td>\n",
       "      <td>as9500</td>\n",
       "    </tr>\n",
       "    <tr>\n",
       "      <th>...</th>\n",
       "      <td>...</td>\n",
       "      <td>...</td>\n",
       "      <td>...</td>\n",
       "      <td>...</td>\n",
       "    </tr>\n",
       "    <tr>\n",
       "      <th>11024284</th>\n",
       "      <td>124380</td>\n",
       "      <td>4.5</td>\n",
       "      <td>1196786159</td>\n",
       "      <td>ns5272</td>\n",
       "    </tr>\n",
       "    <tr>\n",
       "      <th>11024285</th>\n",
       "      <td>124380</td>\n",
       "      <td>2.5</td>\n",
       "      <td>1196786030</td>\n",
       "      <td>ns5492</td>\n",
       "    </tr>\n",
       "    <tr>\n",
       "      <th>11024286</th>\n",
       "      <td>124380</td>\n",
       "      <td>3.5</td>\n",
       "      <td>1196785679</td>\n",
       "      <td>hs305</td>\n",
       "    </tr>\n",
       "    <tr>\n",
       "      <th>11024287</th>\n",
       "      <td>124380</td>\n",
       "      <td>4.5</td>\n",
       "      <td>1196787089</td>\n",
       "      <td>ns7881</td>\n",
       "    </tr>\n",
       "    <tr>\n",
       "      <th>11024288</th>\n",
       "      <td>124380</td>\n",
       "      <td>1.5</td>\n",
       "      <td>1196785847</td>\n",
       "      <td>as883</td>\n",
       "    </tr>\n",
       "  </tbody>\n",
       "</table>\n",
       "<p>11024289 rows × 4 columns</p>\n",
       "</div>"
      ],
      "text/plain": [
       "          userId  score   timestamp movieId\n",
       "0              1    1.0  1425941529   as680\n",
       "1              1    4.5  1425942435  ns2186\n",
       "2              1    5.0  1425941523  hs2381\n",
       "3              1    5.0  1425941546  ns3663\n",
       "4              1    5.0  1425941556  as9500\n",
       "...          ...    ...         ...     ...\n",
       "11024284  124380    4.5  1196786159  ns5272\n",
       "11024285  124380    2.5  1196786030  ns5492\n",
       "11024286  124380    3.5  1196785679   hs305\n",
       "11024287  124380    4.5  1196787089  ns7881\n",
       "11024288  124380    1.5  1196785847   as883\n",
       "\n",
       "[11024289 rows x 4 columns]"
      ]
     },
     "execution_count": 7,
     "metadata": {},
     "output_type": "execute_result"
    }
   ],
   "source": [
    "# se renombra la columna 'rating' por 'score'\n",
    "df.rename(columns={'rating':'score'}, inplace=True)\n",
    "df"
   ]
  },
  {
   "cell_type": "code",
   "execution_count": 8,
   "id": "a9ab7684",
   "metadata": {},
   "outputs": [
    {
     "data": {
      "text/plain": [
       "['amazon_prime_titles.csv',\n",
       " 'disney_plus_titles.csv',\n",
       " 'hulu_titles.csv',\n",
       " 'netflix_titles.csv']"
      ]
     },
     "execution_count": 8,
     "metadata": {},
     "output_type": "execute_result"
    }
   ],
   "source": [
    "# se obtienen los csv presentes en el directorio actual\n",
    "path = r'./'\n",
    "platformFile = getFileNames(path)\n",
    "platformFile\n"
   ]
  },
  {
   "cell_type": "code",
   "execution_count": 9,
   "id": "f7259513",
   "metadata": {},
   "outputs": [],
   "source": [
    "# en esta lista se almacenaran los df de cada plataforma\n",
    "platforms = []"
   ]
  },
  {
   "cell_type": "code",
   "execution_count": 10,
   "id": "f3018420",
   "metadata": {},
   "outputs": [
    {
     "name": "stdout",
     "output_type": "stream",
     "text": [
      "a\n",
      "idGenerator\n"
     ]
    }
   ],
   "source": [
    "# se genera el dataframe con los datos correspondientes a Amazon\n",
    "Amazon = getDF(path, platformFile[0])\n",
    "platforms.append(Amazon) # se agrega a la lista anteriormente mencionada"
   ]
  },
  {
   "cell_type": "code",
   "execution_count": 11,
   "id": "3f8e7574",
   "metadata": {},
   "outputs": [
    {
     "name": "stdout",
     "output_type": "stream",
     "text": [
      "d\n",
      "idGenerator\n"
     ]
    }
   ],
   "source": [
    "# se genera el dataframe con los datos correspondientes a Disney\n",
    "Disney_plus = getDF(path, platformFile[1])\n",
    "platforms.append(Disney_plus)"
   ]
  },
  {
   "cell_type": "code",
   "execution_count": 12,
   "id": "90ddb030",
   "metadata": {},
   "outputs": [
    {
     "name": "stdout",
     "output_type": "stream",
     "text": [
      "h\n",
      "idGenerator\n"
     ]
    }
   ],
   "source": [
    "# se genera el dataframe con los datos correspondientes a Hulu\n",
    "Hulu = getDF(path, platformFile[2])\n",
    "platforms.append(Hulu)"
   ]
  },
  {
   "cell_type": "code",
   "execution_count": 13,
   "id": "79b895ff",
   "metadata": {},
   "outputs": [
    {
     "name": "stdout",
     "output_type": "stream",
     "text": [
      "n\n",
      "idGenerator\n"
     ]
    }
   ],
   "source": [
    "# se genera el dataframe con los datos correspondientes a Netfix\n",
    "Netflix = getDF(path, platformFile[3])\n",
    "platforms.append(Netflix)"
   ]
  },
  {
   "cell_type": "code",
   "execution_count": 14,
   "id": "f54a0757",
   "metadata": {},
   "outputs": [
    {
     "name": "stdout",
     "output_type": "stream",
     "text": [
      "<class 'list'>\n",
      "(9668, 13)\n",
      "(11118, 13)\n",
      "(14191, 13)\n",
      "(22998, 13)\n",
      "(22998, 13)\n",
      "<class 'pandas.core.frame.DataFrame'>\n",
      "RangeIndex: 22998 entries, 0 to 22997\n",
      "Data columns (total 13 columns):\n",
      " #   Column        Non-Null Count  Dtype \n",
      "---  ------        --------------  ----- \n",
      " 0   show_id       22998 non-null  object\n",
      " 1   type          22998 non-null  object\n",
      " 2   title         22998 non-null  object\n",
      " 3   director      14739 non-null  object\n",
      " 4   cast          17677 non-null  object\n",
      " 5   country       11499 non-null  object\n",
      " 6   date_added    13444 non-null  object\n",
      " 7   release_year  22998 non-null  int64 \n",
      " 8   rating        22134 non-null  object\n",
      " 9   duration      22516 non-null  object\n",
      " 10  listed_in     22998 non-null  object\n",
      " 11  description   22994 non-null  object\n",
      " 12  id            22998 non-null  object\n",
      "dtypes: int64(1), object(12)\n",
      "memory usage: 2.3+ MB\n",
      "None\n"
     ]
    }
   ],
   "source": [
    "# se unen los datos de las plataformas en un solo dataframe\n",
    "print(type(platforms))\n",
    "streamPlatform = joinDF(platforms)\n",
    "print(streamPlatform.info())"
   ]
  },
  {
   "cell_type": "code",
   "execution_count": 15,
   "id": "36d3bda7",
   "metadata": {},
   "outputs": [
    {
     "name": "stdout",
     "output_type": "stream",
     "text": [
      "864\n",
      "0\n"
     ]
    }
   ],
   "source": [
    "# correccion de los valores NaN. Se cambian por 'G'\n",
    "print(streamPlatform['rating'].isna().sum())\n",
    "streamPlatform['rating'].replace(np.NaN, 'G', inplace=True)\n",
    "print(streamPlatform['rating'].isna().sum())"
   ]
  },
  {
   "cell_type": "code",
   "execution_count": 16,
   "id": "70c806d5",
   "metadata": {},
   "outputs": [],
   "source": [
    "def convert2date(date:str):\n",
    "    months = {\n",
    "        'january'   : '01',\n",
    "        'february'  : '02',\n",
    "        'march'     : '03',\n",
    "        'april'     : '04',\n",
    "        'may'       : '05',\n",
    "        'june'      : '06',\n",
    "        'july'      : '07',\n",
    "        'august'    : '08',\n",
    "        'septemeber': '09',\n",
    "        'october'   : '10',\n",
    "        'november'  : '11',\n",
    "        'december'  : '12',\n",
    "    }\n",
    "    splt = date.split(' ')\n",
    "    print(date)\n",
    "    m = months[splt[0].lower()]\n",
    "    d = splt[1]\n",
    "    a = splt[2]\n",
    "    print(d)\n",
    "    date = a + '-' + m + '-' + d\n",
    "    date = datetime.strptime(date, '%Y-%m-%d,')\n",
    "    return date.date()"
   ]
  },
  {
   "cell_type": "code",
   "execution_count": 17,
   "id": "0e15de90",
   "metadata": {},
   "outputs": [
    {
     "name": "stdout",
     "output_type": "stream",
     "text": [
      "nan\n",
      "9554\n",
      "(22998,)\n"
     ]
    }
   ],
   "source": [
    "a = streamPlatform['date_added']\n",
    "b = a[20]\n",
    "print(b)\n",
    "#print(convert2date(b))\n",
    "print(a.isna().sum())\n",
    "print(a.shape)"
   ]
  },
  {
   "cell_type": "code",
   "execution_count": 18,
   "id": "d0b9abe9",
   "metadata": {},
   "outputs": [
    {
     "data": {
      "text/plain": [
       "show_id             0\n",
       "type                0\n",
       "title               0\n",
       "director         8259\n",
       "cast             5321\n",
       "country         11499\n",
       "date_added       9554\n",
       "release_year        0\n",
       "rating              0\n",
       "duration          482\n",
       "listed_in           0\n",
       "description         4\n",
       "id                  0\n",
       "dtype: int64"
      ]
     },
     "execution_count": 18,
     "metadata": {},
     "output_type": "execute_result"
    }
   ],
   "source": [
    "streamPlatform.isna().sum()"
   ]
  }
 ],
 "metadata": {
  "kernelspec": {
   "display_name": "PI1",
   "language": "python",
   "name": "python3"
  },
  "language_info": {
   "codemirror_mode": {
    "name": "ipython",
    "version": 3
   },
   "file_extension": ".py",
   "mimetype": "text/x-python",
   "name": "python",
   "nbconvert_exporter": "python",
   "pygments_lexer": "ipython3",
   "version": "3.10.6"
  },
  "vscode": {
   "interpreter": {
    "hash": "e0061f8e7792e8a9fc9b568dabf4d36251b71fbace2bd32efc15090b7f98cd41"
   }
  }
 },
 "nbformat": 4,
 "nbformat_minor": 5
}
